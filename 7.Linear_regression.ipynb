{
 "cells": [
  {
   "cell_type": "markdown",
   "metadata": {},
   "source": [
    "<center>Заметка 7. \tЛинейная регрессия.</center>\n",
    "<center>курс <q>Прикладной статистический анализ данных</q>.</center>\n",
    "<center>Версия 1. 25 марта 2022 г.</center>"
   ]
  },
  {
   "cell_type": "markdown",
   "metadata": {},
   "source": [
    "# Привлекательность и уровень заработной платы"
   ]
  },
  {
   "cell_type": "code",
   "execution_count": 1,
   "metadata": {},
   "outputs": [],
   "source": [
    "import pandas as pd\n",
    "import numpy as np\n",
    "import matplotlib.pyplot as plt\n",
    "import statsmodels.api as sm"
   ]
  },
  {
   "cell_type": "code",
   "execution_count": 2,
   "metadata": {},
   "outputs": [],
   "source": [
    "import warnings\n",
    "warnings.filterwarnings('ignore')"
   ]
  },
  {
   "cell_type": "code",
   "execution_count": 3,
   "metadata": {},
   "outputs": [],
   "source": [
    "data = pd.read_csv('beauty.csv', sep=';')"
   ]
  },
  {
   "cell_type": "markdown",
   "metadata": {},
   "source": [
    "## Постановка задачи"
   ]
  },
  {
   "cell_type": "markdown",
   "metadata": {},
   "source": [
    "По 1260 опрошенным имеются следующие данные:  \n",
    "\n",
    "- заработная плата за час работы, $;  \n",
    "- опыт работы, лет;  \n",
    "- образование, лет;  \n",
    "- внешняя привлекательность, в баллах от 1 до 5;  \n",
    "- бинарные признаки: пол, семейное положение, состояние здоровья (хорошее/плохое), членство в профсоюзе, цвет кожи (белый/чёрный), занятость в сфере обслуживания (да/нет).\n",
    "Требуется оценить влияние внешней привлекательности на уровень заработка с учётом всех остальных факторов.  "
   ]
  },
  {
   "cell_type": "code",
   "execution_count": 4,
   "metadata": {},
   "outputs": [
    {
     "data": {
      "text/html": [
       "<div>\n",
       "<style scoped>\n",
       "    .dataframe tbody tr th:only-of-type {\n",
       "        vertical-align: middle;\n",
       "    }\n",
       "\n",
       "    .dataframe tbody tr th {\n",
       "        vertical-align: top;\n",
       "    }\n",
       "\n",
       "    .dataframe thead th {\n",
       "        text-align: right;\n",
       "    }\n",
       "</style>\n",
       "<table border=\"1\" class=\"dataframe\">\n",
       "  <thead>\n",
       "    <tr style=\"text-align: right;\">\n",
       "      <th></th>\n",
       "      <th>wage</th>\n",
       "      <th>exper</th>\n",
       "      <th>union</th>\n",
       "      <th>goodhlth</th>\n",
       "      <th>black</th>\n",
       "      <th>female</th>\n",
       "      <th>married</th>\n",
       "      <th>service</th>\n",
       "      <th>educ</th>\n",
       "      <th>looks</th>\n",
       "    </tr>\n",
       "  </thead>\n",
       "  <tbody>\n",
       "    <tr>\n",
       "      <th>0</th>\n",
       "      <td>5.73</td>\n",
       "      <td>30</td>\n",
       "      <td>0</td>\n",
       "      <td>1</td>\n",
       "      <td>0</td>\n",
       "      <td>1</td>\n",
       "      <td>1</td>\n",
       "      <td>1</td>\n",
       "      <td>14</td>\n",
       "      <td>4</td>\n",
       "    </tr>\n",
       "    <tr>\n",
       "      <th>1</th>\n",
       "      <td>4.28</td>\n",
       "      <td>28</td>\n",
       "      <td>0</td>\n",
       "      <td>1</td>\n",
       "      <td>0</td>\n",
       "      <td>1</td>\n",
       "      <td>1</td>\n",
       "      <td>0</td>\n",
       "      <td>12</td>\n",
       "      <td>3</td>\n",
       "    </tr>\n",
       "    <tr>\n",
       "      <th>2</th>\n",
       "      <td>7.96</td>\n",
       "      <td>35</td>\n",
       "      <td>0</td>\n",
       "      <td>1</td>\n",
       "      <td>0</td>\n",
       "      <td>1</td>\n",
       "      <td>0</td>\n",
       "      <td>0</td>\n",
       "      <td>10</td>\n",
       "      <td>4</td>\n",
       "    </tr>\n",
       "    <tr>\n",
       "      <th>3</th>\n",
       "      <td>11.57</td>\n",
       "      <td>38</td>\n",
       "      <td>0</td>\n",
       "      <td>1</td>\n",
       "      <td>0</td>\n",
       "      <td>0</td>\n",
       "      <td>1</td>\n",
       "      <td>1</td>\n",
       "      <td>16</td>\n",
       "      <td>3</td>\n",
       "    </tr>\n",
       "    <tr>\n",
       "      <th>4</th>\n",
       "      <td>11.42</td>\n",
       "      <td>27</td>\n",
       "      <td>0</td>\n",
       "      <td>1</td>\n",
       "      <td>0</td>\n",
       "      <td>0</td>\n",
       "      <td>1</td>\n",
       "      <td>0</td>\n",
       "      <td>16</td>\n",
       "      <td>3</td>\n",
       "    </tr>\n",
       "  </tbody>\n",
       "</table>\n",
       "</div>"
      ],
      "text/plain": [
       "   wage   exper  union  goodhlth  black  female  married  service  educ  looks\n",
       "0   5.73     30      0         1      0       1        1        1    14      4\n",
       "1   4.28     28      0         1      0       1        1        0    12      3\n",
       "2   7.96     35      0         1      0       1        0        0    10      4\n",
       "3  11.57     38      0         1      0       0        1        1    16      3\n",
       "4  11.42     27      0         1      0       0        1        0    16      3"
      ]
     },
     "execution_count": 4,
     "metadata": {},
     "output_type": "execute_result"
    }
   ],
   "source": [
    "data.head()"
   ]
  },
  {
   "cell_type": "markdown",
   "metadata": {},
   "source": [
    "1. Постройте попарные диаграммы рассеяния всех количественных признаков. Для этого можно воспользоваться `pd.plotting.scatter_matrix`."
   ]
  },
  {
   "cell_type": "code",
   "execution_count": null,
   "metadata": {},
   "outputs": [],
   "source": [
    "# your code here"
   ]
  },
  {
   "cell_type": "markdown",
   "metadata": {},
   "source": [
    "2. Измерьте взаимосвязь между признаками с помощью матрицы корреляции и виузлизируйте ее (`sns.heatmap()`). Является ли полученный вами результат доказательством наличия/отсутствия взаимосвязи между признаками?"
   ]
  },
  {
   "cell_type": "code",
   "execution_count": 7,
   "metadata": {},
   "outputs": [],
   "source": [
    "import seaborn as sns\n",
    "# your code here"
   ]
  },
  {
   "cell_type": "markdown",
   "metadata": {},
   "source": [
    "## Задание"
   ]
  },
  {
   "cell_type": "markdown",
   "metadata": {},
   "source": [
    "Как уровень внешней привлекательности влияет на средний уровень заработной платы с учетом остальных факторов?"
   ]
  },
  {
   "cell_type": "markdown",
   "metadata": {},
   "source": [
    "### Предобработка данных"
   ]
  },
  {
   "cell_type": "markdown",
   "metadata": {},
   "source": [
    "1. Посмотрите на распределение оценок привлекательности (looks). Для этого постройте гистограмму."
   ]
  },
  {
   "cell_type": "code",
   "execution_count": 9,
   "metadata": {},
   "outputs": [],
   "source": [
    "# your code here"
   ]
  },
  {
   "cell_type": "markdown",
   "metadata": {},
   "source": [
    "2. Постройте из looks категориальный признак, разбив на три категории (низкая привлекательность (looks < 3), средняя привлекательность (looks = 3) и высокая привлекательность (looks > 3))"
   ]
  },
  {
   "cell_type": "code",
   "execution_count": 73,
   "metadata": {},
   "outputs": [],
   "source": [
    "# your code here"
   ]
  },
  {
   "cell_type": "markdown",
   "metadata": {},
   "source": [
    "3. Посмотрите на распределение значений отклика. Есть ли в нем выбросы? Выбросы могут сильно влиять на коэффициенты регрессии и мы с вами еще рассмотрим способы выявления выбросов. Удалите наблюдения, которые вы считаете выбросами. Этот шаг нужно всегда делать осторожно, но в этих данных выбросы видны невооруженным взглядом."
   ]
  },
  {
   "cell_type": "code",
   "execution_count": 10,
   "metadata": {},
   "outputs": [],
   "source": [
    "# your code here"
   ]
  },
  {
   "cell_type": "markdown",
   "metadata": {},
   "source": [
    "4. Видно, что распределение откликов далеко от нормального, поэтому примените пробразование Бокса-Кокса с помощью функции `boxcox` из `scipy`. Преобразуйте отклик согласно той трансформации, которую вы получите в результате выполнения этой функции. "
   ]
  },
  {
   "cell_type": "code",
   "execution_count": 11,
   "metadata": {},
   "outputs": [],
   "source": [
    "# your code here"
   ]
  },
  {
   "cell_type": "markdown",
   "metadata": {},
   "source": [
    "5. Удалось ли приблизить преобразованное распределение к нормальному? Сравните распределение вашего признака \"до\" и распределение признака \"после\" с нормальным распределением с помощью `stats.probplot()` (~qqplot)."
   ]
  },
  {
   "cell_type": "code",
   "execution_count": 12,
   "metadata": {},
   "outputs": [],
   "source": [
    "from scipy import stats\n",
    "# your code here"
   ]
  },
  {
   "cell_type": "markdown",
   "metadata": {},
   "source": [
    "6. Сравните преобразование \"после\" c логарифмическим преобразованием признака. Если логарифмическое преобразование работает достаточно хорошо, то предпочтительнее использовать его в дальнейшем для построения моделей. "
   ]
  },
  {
   "cell_type": "code",
   "execution_count": null,
   "metadata": {},
   "outputs": [],
   "source": [
    "# your code here"
   ]
  },
  {
   "cell_type": "markdown",
   "metadata": {},
   "source": [
    "### Построение модели"
   ]
  },
  {
   "cell_type": "markdown",
   "metadata": {},
   "source": [
    "1. Проверьте остатки на нормальность с помощью критерия Шапиро-Уилка.  \n",
    "\n",
    "    - Если гипотеза нормальности отвергается, то для проверки несмещенности воспользуейтесь критерием знаковых рангов Уилкоксона (`wilcox`).  \n",
    "\n",
    "    - Если гипотеза нормальности не отвергается, то воспользуйтесь критерием Стьюдента."
   ]
  },
  {
   "cell_type": "code",
   "execution_count": null,
   "metadata": {},
   "outputs": [],
   "source": [
    "# your code here"
   ]
  },
  {
   "cell_type": "markdown",
   "metadata": {},
   "source": [
    "2. С помощью критерия Бройша-Пагана (`het_breuschpagan` из `statsmodels`) проверьте модель на наличие гетероскедастичности."
   ]
  },
  {
   "cell_type": "code",
   "execution_count": null,
   "metadata": {},
   "outputs": [],
   "source": [
    "# your code here"
   ]
  },
  {
   "cell_type": "markdown",
   "metadata": {},
   "source": [
    "3. Постройте линейную регрессию по всем признакам, используя преобразованные значения отклика. Посмотрите на остатки регрессии c помощью метода `resid` результа работы функции `smf.ols`. Можно ли считать полученную модель исчерпывающей? Почему?"
   ]
  },
  {
   "cell_type": "code",
   "execution_count": null,
   "metadata": {},
   "outputs": [],
   "source": [
    "m1 = smf.ols(# your code here)\n",
    "result_m1 = m1.fit()\n",
    "result_m1.summary()"
   ]
  },
  {
   "cell_type": "markdown",
   "metadata": {},
   "source": [
    "4. Проведите визуальный анализ нормальности остатков и зависимостей остатков от каждого из признаков в модели, которую вы построили. Можно ли еще добавить какие-либо преобразования признаков, которые улучшат эти зависимости?"
   ]
  },
  {
   "cell_type": "code",
   "execution_count": null,
   "metadata": {},
   "outputs": [],
   "source": [
    "plt.figure(figsize=(16,7))\n",
    "plt.subplot(121)\n",
    "sns.regplot(data['educ'],result_m1.resid, scatter=True,\n",
    "              lowess=True,line_kws={'color': 'red', 'lw': 1, 'alpha': 0.8})\n",
    "plt.xlabel('Education', fontsize=14)\n",
    "plt.ylabel('Residuals', fontsize=14)\n",
    "plt.subplot(122)\n",
    "sns.regplot(data['exper'],result_m1.resid, scatter=True,\n",
    "              lowess=True,line_kws={'color': 'red', 'lw': 1, 'alpha': 0.8})\n",
    "plt.xlabel('Experience', fontsize=14)\n",
    "plt.ylabel('Residuals', fontsize=14)"
   ]
  },
  {
   "cell_type": "code",
   "execution_count": null,
   "metadata": {},
   "outputs": [],
   "source": [
    "plt.figure(figsize=(16,7))\n",
    "plt.subplot(121)\n",
    "sns.regplot(range(len(result_m1.resid)),result_m1.resid, scatter=True,\n",
    "              lowess=True,line_kws={'color': 'red', 'lw': 1, 'alpha': 0.8})\n",
    "plt.xlabel('i', fontsize=14)\n",
    "plt.ylabel('Residuals', fontsize=14)\n",
    "plt.subplot(122)\n",
    "sns.regplot(result_m1.predict(),result_m1.resid, scatter=True,\n",
    "              lowess=True,line_kws={'color': 'red', 'lw': 1, 'alpha': 0.8})\n",
    "plt.xlabel('Fitted values', fontsize=14)\n",
    "plt.ylabel('Residuals', fontsize=14)\n"
   ]
  },
  {
   "cell_type": "markdown",
   "metadata": {},
   "source": [
    "4. Добавьте в линейную модель новый признак на основе анализа графиков рассеяния."
   ]
  },
  {
   "cell_type": "code",
   "execution_count": null,
   "metadata": {},
   "outputs": [],
   "source": [
    "m2 = smf.ols(# your code here)\n",
    "result_m2 = m2.fit(cov_type='HC1')\n",
    "result_m2.summary()"
   ]
  },
  {
   "cell_type": "code",
   "execution_count": null,
   "metadata": {},
   "outputs": [],
   "source": [
    "plt.figure(figsize=(20,7))\n",
    "plt.subplot(131)\n",
    "sns.regplot(data['educ'],result_m2.resid, scatter=True,\n",
    "              lowess=True,line_kws={'color': 'red', 'lw': 1, 'alpha': 0.8})\n",
    "plt.xlabel('Education', fontsize=14)\n",
    "plt.ylabel('Residuals', fontsize=14)\n",
    "plt.subplot(132)\n",
    "sns.regplot(data['exper'],result_m2.resid, scatter=True,\n",
    "              lowess=True,line_kws={'color': 'red', 'lw': 1, 'alpha': 0.8})\n",
    "plt.xlabel('Experience', fontsize=14)\n",
    "plt.ylabel('Residuals', fontsize=14)\n",
    "plt.subplot(133)\n",
    "sns.regplot(data['exper']**2,result_m2.resid, scatter=True,\n",
    "              lowess=True,line_kws={'color': 'red', 'lw': 1, 'alpha': 0.8})\n",
    "plt.xlabel('Experience^2', fontsize=14)\n",
    "plt.ylabel('Residuals', fontsize=14)"
   ]
  },
  {
   "cell_type": "code",
   "execution_count": null,
   "metadata": {},
   "outputs": [],
   "source": [
    "plt.figure(figsize=(16,7))\n",
    "plt.subplot(121)\n",
    "sns.regplot(range(len(result_m2.resid)),result_m2.resid, scatter=True,\n",
    "              lowess=True,line_kws={'color': 'red', 'lw': 1, 'alpha': 0.8})\n",
    "plt.xlabel('i', fontsize=14)\n",
    "plt.ylabel('Residuals', fontsize=14)\n",
    "plt.subplot(122)\n",
    "sns.regplot(result_m2.fittedvalues, result_m2.resid, scatter=True,\n",
    "              lowess=True,line_kws={'color': 'red', 'lw': 1, 'alpha': 0.8})\n",
    "plt.xlabel('Fitted values', fontsize=14)\n",
    "plt.ylabel('Residuals', fontsize=14)\n"
   ]
  },
  {
   "cell_type": "markdown",
   "metadata": {},
   "source": [
    "## Выводы"
   ]
  },
  {
   "cell_type": "code",
   "execution_count": null,
   "metadata": {},
   "outputs": [],
   "source": [
    "plt.figure(figsize=(16,7))\n",
    "plt.subplot(121)\n",
    "plt.scatter(data['wage'],np.exp(result_m2.fittedvalues))\n",
    "plt.xlabel('Wage', fontsize=14)\n",
    "plt.ylabel('Exponentiated predictions', fontsize=14)\n",
    "plt.xlim([0,50])\n",
    "\n",
    "plt.subplot(122)\n",
    "plt.scatter(np.log(data['wage']),result_m2.fittedvalues)\n",
    "plt.xlabel('Log wage', fontsize=14)\n",
    "plt.ylabel('Predictions', fontsize=14)\n",
    "plt.xlim([0,4])\n",
    "plt.show()"
   ]
  },
  {
   "cell_type": "markdown",
   "metadata": {},
   "source": []
  }
 ],
 "metadata": {
  "kernelspec": {
   "display_name": "Python 3",
   "language": "python",
   "name": "python3"
  },
  "language_info": {
   "codemirror_mode": {
    "name": "ipython",
    "version": 3
   },
   "file_extension": ".py",
   "mimetype": "text/x-python",
   "name": "python",
   "nbconvert_exporter": "python",
   "pygments_lexer": "ipython3",
   "version": "3.8.3"
  }
 },
 "nbformat": 4,
 "nbformat_minor": 4
}
