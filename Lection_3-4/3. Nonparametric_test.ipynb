{
 "cells": [
  {
   "cell_type": "markdown",
   "metadata": {
    "id": "u1EyYZLCcCmb"
   },
   "source": [
    "<center>Заметка 3. \tНепараметрические гипотезы.</center>\n",
    "<center>курс <q>Прикладной статистический анализ данных</q>.</center>\n",
    "<center>Версия 1. 4 марта 2022 г.</center>"
   ]
  },
  {
   "cell_type": "markdown",
   "metadata": {},
   "source": [
    "# Ранги и перестановки"
   ]
  },
  {
   "cell_type": "markdown",
   "metadata": {
    "id": "fDckoy8zcCmv"
   },
   "source": [
    "## Мыши и зеркало\n",
    "\n",
    "(Shervin, 2004): 16 лабораторных мышей были помещены в двухкомнатные клетки, в одной из комнат висело зеркало. Измерялась доля времени, которое каждая мышь проводила в каждой из своих двух клеток. В данных отмечена пропорция времени, проведенного в комнате с зеркалом.\n",
    "\n",
    "Общая постановка:\n",
    "\n",
    "$H_0$ : мышам всё равно, висит в клетке зеркало или нет. \n",
    "\n",
    "$H_1$ : у мышей есть какие-то предпочтения насчёт зеркала.\n",
    "\n",
    "Уровень значимости считаем $\\alpha$=0.05"
   ]
  },
  {
   "cell_type": "code",
   "execution_count": 10,
   "metadata": {
    "id": "TQbjaVC3cCmv"
   },
   "outputs": [],
   "source": [
    "import numpy as np\n",
    "import pandas as pd\n",
    "import seaborn as sns"
   ]
  },
  {
   "cell_type": "code",
   "execution_count": 11,
   "metadata": {
    "id": "SRJQq0UXcCmv"
   },
   "outputs": [],
   "source": [
    "mouses = pd.Series([0.348471, 0.640620, 0.549818, 0.537454, 0.400444, \n",
    "                    0.426292, 0.417156, 0.477977, 0.450657, 0.476602, \n",
    "                    0.488677, 0.484741,0.481614, 0.489406, 0.467365],\n",
    "                        name='time')"
   ]
  },
  {
   "cell_type": "markdown",
   "metadata": {},
   "source": [
    "1. Выведите основные статистики и визуализируйте распределение."
   ]
  },
  {
   "cell_type": "code",
   "execution_count": null,
   "metadata": {},
   "outputs": [],
   "source": []
  },
  {
   "cell_type": "markdown",
   "metadata": {
    "id": "1tr28H4UcCmw"
   },
   "source": [
    "2. Есть ли у мышей предпочтения?\n",
    "Найдите среднюю долю времени, которую мыши проводят в комнате с зеркалом. Для этого постройте 95% доверительный интервал с помощью z-теста (\n",
    "`zconfint`). Какие выводы можно сделать основываясь на полученных результатах? Обоснуйте/опровергните возможность использования теста (https://github.com/csmsupsad/psad2022/blob/main/Lection_2/2.Parametric_Hypothesis.ipynb)."
   ]
  },
  {
   "cell_type": "code",
   "execution_count": 12,
   "metadata": {
    "id": "Lo6Yy1CscCmw",
    "outputId": "13a67bee-1b49-46a8-eb92-91cce78dcc3e"
   },
   "outputs": [],
   "source": [
    "from statsmodels.stats.weightstats import zconfint"
   ]
  },
  {
   "cell_type": "code",
   "execution_count": null,
   "metadata": {},
   "outputs": [],
   "source": []
  },
  {
   "cell_type": "markdown",
   "metadata": {
    "id": "L3dAcDwtcCmw"
   },
   "source": [
    "3. Воспользуейтесь критерием Вилкоксона (wilcoxon). Подтвердились ли ваши выводы из прошлого пункта? "
   ]
  },
  {
   "cell_type": "code",
   "execution_count": 13,
   "metadata": {
    "id": "wsA8dcHGcCmx",
    "outputId": "b29741f3-de62-46b6-e0b0-a3ca6840b7ba"
   },
   "outputs": [],
   "source": [
    "from scipy.stats import wilcoxon"
   ]
  },
  {
   "cell_type": "code",
   "execution_count": null,
   "metadata": {},
   "outputs": [],
   "source": []
  },
  {
   "cell_type": "markdown",
   "metadata": {
    "id": "htDSj48TcCmx"
   },
   "source": [
    "### Воспользуемся перестановочным тестом."
   ]
  },
  {
   "cell_type": "markdown",
   "metadata": {
    "id": "4ovMvv__cCmx"
   },
   "source": [
    "1. Сгенерируете нулевое распределение для перестановочного теста. Для этого:\n",
    "\n",
    "- Сгенерируйте выборки со всеми возможными комбинациями знаков (таких значений у нас получится $2^n$, где $n$ - размер выборки).\n",
    "- Центрируйте в соответствии с гипотезой значения выборки и просуммируйте значения элементов с учетом знаков {+1, -1}\n",
    "- Проиллюстрируйте полученное нулевое распределение для гипотезы о доле времени мышей в комнатах.\n",
    "\n",
    "https://github.com/csmsupsad/psad2022/blob/main/Lection_3-4/psad_ht_nonparametric.pdf\n",
    "Одновыборочный перестановочный критерий, гипотеза о среднем (~44 слайд)"
   ]
  },
  {
   "cell_type": "code",
   "execution_count": 14,
   "metadata": {
    "id": "q1a-jBNocCmx",
    "outputId": "0143abc2-4d5c-4b17-8011-33238fb05719"
   },
   "outputs": [],
   "source": [
    "from itertools import product"
   ]
  },
  {
   "cell_type": "code",
   "execution_count": 15,
   "metadata": {
    "id": "fogOFyBycCmx"
   },
   "outputs": [],
   "source": [
    "def permutation_zero_distr_1sample(sample, mean):\n",
    "    # your code here\n",
    "    return mouse_distr"
   ]
  },
  {
   "cell_type": "code",
   "execution_count": null,
   "metadata": {},
   "outputs": [],
   "source": [
    "mouse_distr = permutation_zero_distr_1sample()\n",
    "# your code here"
   ]
  },
  {
   "cell_type": "markdown",
   "metadata": {
    "id": "1EJa8DN0cCmy"
   },
   "source": [
    "2. Посчитайте статистику перестановочного теста."
   ]
  },
  {
   "cell_type": "code",
   "execution_count": 16,
   "metadata": {
    "id": "z8hBXzRkcCmy"
   },
   "outputs": [],
   "source": [
    "def permutation_t_stat_1sample(sample, mean):\n",
    "    # your code here\n",
    "    return t_stat"
   ]
  },
  {
   "cell_type": "markdown",
   "metadata": {
    "id": "H0ce-xERcCmz"
   },
   "source": [
    "3. Реализуйте сам тест для двусторонней и односторонних альтернатив. Достигаемый уровень значимости - доля перестановок знаков, на которых получилось такое же или ещё более экстремальное значение статистики."
   ]
  },
  {
   "cell_type": "code",
   "execution_count": 16,
   "metadata": {
    "id": "AT73B7YVcCmz"
   },
   "outputs": [],
   "source": [
    "def permutation_test(sample, mean, alternative):\n",
    "    if alternative not in ('two-sided', 'less', 'greater'):\n",
    "        raise ValueError(\"alternative not found\")\n",
    "        \n",
    "    # your code here\n",
    "    \n",
    "    if alternative == 'two-sided':\n",
    "        # your code here\n",
    "        return two_sided_p\n",
    "    \n",
    "    if alternative == 'less':\n",
    "        # your code here\n",
    "        return left_sided_p\n",
    "    \n",
    "    if alternative == 'greater':\n",
    "        # your code here\n",
    "        return right_sided_p"
   ]
  },
  {
   "cell_type": "markdown",
   "metadata": {
    "id": "4cL3SsO1cCmz"
   },
   "source": [
    "4. Чему равно значение p-value перестановочного теста в задаче о мышах? Можем ли мы отвергнуть нулевую гипотезу?"
   ]
  },
  {
   "cell_type": "code",
   "execution_count": null,
   "metadata": {},
   "outputs": [],
   "source": [
    "# your code here"
   ]
  },
  {
   "cell_type": "markdown",
   "metadata": {},
   "source": [
    "_____________"
   ]
  },
  {
   "cell_type": "markdown",
   "metadata": {},
   "source": [
    "# Бутстреп"
   ]
  },
  {
   "cell_type": "markdown",
   "metadata": {},
   "source": [
    "<b>Шаг 1: Создание повторных выборок (\"псевдовыборок\")</b>  \n",
    "\n",
    "Создаем сотни новых выборок путем сэмплирования объектов с возвращением из исходной случайной выборки. Размер каждой повторной выборки совпадает с исходной случайной выборкой. В результате, каждый объект может встречаться один раз, более одного раза или вообще отсутствовать. \n",
    "\n",
    "<b>Шаг 2: Расчёт бутстреп распределения</b>   \n",
    "\n",
    "Вычисляется статистика для каждой повторной выборки. Множество полученных статистик образует некоторое выборочное распределение и называется бутстреп-распределением.  \n",
    "\n",
    "<b>Шаг 3: Применение бутстреп-распределение</b>  \n",
    "\n",
    "Бутстреп-распределение дает информацию о форме, центре и разбросе выборочного распределения исследуемой статистики. С его помощью можно вычислять доверительные интервалы на данную статистику с произвольным уровнем значимости."
   ]
  },
  {
   "cell_type": "markdown",
   "metadata": {},
   "source": [
    "<b>Основная идея</b>\n",
    "\n",
    "- Повторные выборки из основной представляют то, что мы получили бы, если бы взяли большое количество выборок из популяции.\n",
    "\n",
    "- Распределение статистики бутстрепа, основанное на множестве повторных выборок представляет собой выборочное распределение статистики, основанное на множестве истинных выборок."
   ]
  },
  {
   "cell_type": "markdown",
   "metadata": {},
   "source": [
    "# Расходы покупателей"
   ]
  },
  {
   "cell_type": "markdown",
   "metadata": {},
   "source": [
    "Имеются размеры сумм в долларах, потраченных 50 покупателями в супермаркете. Мы готовы рассматривать это как SRS (Simple Random Sample) всех покупателей на этом рынке.     "
   ]
  },
  {
   "cell_type": "code",
   "execution_count": 1,
   "metadata": {},
   "outputs": [],
   "source": [
    "import numpy as np\n",
    "import seaborn as sns\n",
    "import matplotlib.pyplot as plt\n",
    "spending = np.array([3.11, 8.88, 9.26, 10.81, 12.69, 13.78, 15.23, 15.62, 17.00, 17.39,\n",
    "            18.36, 18.43, 19.27, 19.50, 19.54, 20.16, 20.59, 22.22, 23.04, 24.47,\n",
    "            24.58, 25.13, 26.24, 26.26, 27.65, 28.06, 28.08, 28.38, 32.03, 34.98,\n",
    "            36.37, 38.64, 39.16, 41.02, 42.97, 44.08, 44.67, 45.40, 46.69, 48.65,\n",
    "            50.39, 52.75, 54.80, 59.07, 61.22, 70.32, 82.70, 85.76, 86.37, 93.34])"
   ]
  },
  {
   "cell_type": "code",
   "execution_count": 2,
   "metadata": {},
   "outputs": [
    {
     "data": {
      "text/plain": [
       "34.7022"
      ]
     },
     "execution_count": 2,
     "metadata": {},
     "output_type": "execute_result"
    }
   ],
   "source": [
    "import numpy as np\n",
    "np.mean(spending)"
   ]
  },
  {
   "cell_type": "markdown",
   "metadata": {},
   "source": [
    "1. Постройте гистограмму данных. Какой вывод можно сделать о распределении этих данных?"
   ]
  },
  {
   "cell_type": "code",
   "execution_count": null,
   "metadata": {},
   "outputs": [],
   "source": [
    "# your code here"
   ]
  },
  {
   "cell_type": "markdown",
   "metadata": {},
   "source": [
    "2. Сгенерируйте 50 \"псевдовыборок\" и постройте бутстреп-распределение (средение значения выборок). Распределение выборки является нормальным для n = 50? Для n = 1000?"
   ]
  },
  {
   "cell_type": "code",
   "execution_count": null,
   "metadata": {},
   "outputs": [],
   "source": [
    "# your code here"
   ]
  },
  {
   "cell_type": "markdown",
   "metadata": {},
   "source": [
    "3. Найдите среднее значение полученного бутстреп-распределения. Почему вы получили такой результат?"
   ]
  },
  {
   "cell_type": "code",
   "execution_count": null,
   "metadata": {},
   "outputs": [],
   "source": [
    "# your code here"
   ]
  },
  {
   "cell_type": "markdown",
   "metadata": {},
   "source": [
    "4. Сравните стандартные ошибки: классический способ подсчета SE по исходной выборке и bootstrap standart error. \n",
    "\n",
    "- Используйте формулу $s\\big/\\sqrt{n}$ для оценки стандартного отклонения среднего значения выборки $\\bar{x}$.\n",
    "\n",
    "- Вычислите bootstrap standart error используя формулу.  \n",
    "\n",
    "Если интересующая нас статистика является средним значением выборки $\\bar{x}$, то стандартная ошибка бутстрепа, основанная на  \"псевдовыборках\" считается так:\n",
    "\n",
    "$$SE_{boot,\\bar{x}}= \\sqrt{\\frac{1}{B-1}\\sum\\bigg(\\bar{x}^* - \\frac{1}{B}\\sum\\bar{x}^*\\bigg)^2}$$,\n",
    " \n",
    "где B - кол-во сгенерированных \"псевдовыборок\", $\\bar{x}^*$ представляет собой среднее значение каждой отдельной\"псевдовыборки\". \n",
    "\n",
    "Стандартная ошибка бутстрепа - это обычное стандартное отклонение значений в $\\bar{x}^*$. \n",
    "\n",
    "(можно использовать np.random.choice или любой другой подходящий способ)"
   ]
  },
  {
   "cell_type": "code",
   "execution_count": 28,
   "metadata": {},
   "outputs": [],
   "source": [
    "# your code here"
   ]
  },
  {
   "cell_type": "code",
   "execution_count": null,
   "metadata": {},
   "outputs": [],
   "source": [
    "print(\"SE = \", SE)\n",
    "print(\"SE bootstrap = \", SE_bootstrap)"
   ]
  },
  {
   "cell_type": "markdown",
   "metadata": {},
   "source": [
    "## Доверительный интервал"
   ]
  },
  {
   "cell_type": "markdown",
   "metadata": {},
   "source": [
    "Вспомним односторонний доверительный интервал для среднего значения нормально распределеной совокупности:\n",
    "\n",
    "$$\\bar{x} \\pm t^* \\frac{s}{\\sqrt{n}}$$\n",
    "\n",
    "Этот интервал основан на нормальном распределении выборки со средним значением выборки и формулой для стандартной ошибки выборки. \n",
    "\n",
    "Когда бутстреп распределение приблизительно нормальное и имеет небольшое смещение, мы можем использовать ту же самую формулу со стандартной ошибкой бутстрепа, чтобы получить доверительный интервал для любого параметра. \n",
    "\n",
    "Предположим, что бутстреп распределение статистики из SRS размера $n$ приблизительно нормально и мало смещено. Тогда аппроксимация доверительного интервала на любую статистику вычисляется через бутстреп:\n",
    "\n",
    "$$statistic \\pm t^*SE_{boot,statistic}$$\n",
    "\n",
    "где $t^*$ - критическое значение распределения Стьюдента с n-1 степенью свободы $t(n-1)$."
   ]
  },
  {
   "cell_type": "code",
   "execution_count": 23,
   "metadata": {},
   "outputs": [],
   "source": [
    "import scipy\n",
    "from scipy.stats import t"
   ]
  },
  {
   "cell_type": "markdown",
   "metadata": {},
   "source": [
    "1. Найдите 95% доверительный интервал для среднего генеральной совокупности, основываясь на ваших \"псевдовыборках\" (для этого вам понадобится t.ppf). \n",
    "\n",
    "https://github.com/csmsupsad/psad2022/blob/main/Lection_3-4/psad_ht_nonparametric.pdf Бутстреп, Доверительные интервалы"
   ]
  },
  {
   "cell_type": "code",
   "execution_count": 22,
   "metadata": {},
   "outputs": [],
   "source": [
    "# your code here"
   ]
  },
  {
   "cell_type": "markdown",
   "metadata": {},
   "source": [
    "2. Также найдите стандартный односторонний доверительный интервал."
   ]
  },
  {
   "cell_type": "code",
   "execution_count": 24,
   "metadata": {},
   "outputs": [],
   "source": [
    "# your code here"
   ]
  },
  {
   "cell_type": "markdown",
   "metadata": {},
   "source": [
    "### Percentile bootstrap\n",
    "\n",
    "$(\\theta^*_{(\\alpha/2)}, \\theta^*_{(1 - \\alpha/2)})$, где $\\theta^*_{(\\alpha/2)}$ означает квантиль бутстреп-распределения статистики.\n",
    "\n",
    "Воспользуйтесь способом построения доверительного интервала по квантилям бустреп-распределения статистики. Этот метод может быть применен к любой статистике. Он будет хорошо работать в тех случаях, когда распределение бутстрэпа симметрично и центрировано на наблюдаемой статистике."
   ]
  },
  {
   "cell_type": "markdown",
   "metadata": {},
   "source": [
    "3. Найдите 95% доверительный интервал для среднего генеральной совокупности, основываясь на ваших \"псевдовыборках\" по формуле выше. Оставьте 95% ваших наблюдений. Для этого от полученного бутстреп-распределения отсеките хвосты с помощью `np.quantile`"
   ]
  },
  {
   "cell_type": "code",
   "execution_count": 25,
   "metadata": {},
   "outputs": [],
   "source": [
    "# your code here"
   ]
  },
  {
   "cell_type": "markdown",
   "metadata": {},
   "source": [
    "__________"
   ]
  },
  {
   "cell_type": "markdown",
   "metadata": {},
   "source": [
    "# Ранги и бутстреп"
   ]
  },
  {
   "cell_type": "markdown",
   "metadata": {
    "id": "Ka1lio62cCmi"
   },
   "source": [
    "## Терапия при анорексии\n",
    "\n",
    "В исследовании оценивается эффективность поведенческой терапии для лечения анорексии. Для 50 пациентов известен вес до начала терапии и по её окончании. Была ли терапия эффективной?"
   ]
  },
  {
   "cell_type": "code",
   "execution_count": 5,
   "metadata": {
    "colab": {
     "base_uri": "https://localhost:8080/"
    },
    "id": "AL_6s5DqcCmj",
    "outputId": "7726a711-fdf4-4d86-fa71-a09faa019a19"
   },
   "outputs": [],
   "source": [
    "import pandas as pd\n",
    "import numpy as np\n",
    "\n",
    "import matplotlib.pyplot as plt\n",
    "import statsmodels.api as sm\n",
    "import seaborn as sns\n",
    "\n",
    "import matplotlib.lines as mlines\n",
    "import matplotlib.transforms as mtransforms\n",
    "\n",
    "from scipy.stats import norm, t"
   ]
  },
  {
   "cell_type": "code",
   "execution_count": 7,
   "metadata": {
    "id": "urMUSvPAcCmj"
   },
   "outputs": [],
   "source": [
    "w = pd.read_table(\"weight.txt\")"
   ]
  },
  {
   "cell_type": "code",
   "execution_count": 9,
   "metadata": {},
   "outputs": [
    {
     "data": {
      "text/html": [
       "<div>\n",
       "<style scoped>\n",
       "    .dataframe tbody tr th:only-of-type {\n",
       "        vertical-align: middle;\n",
       "    }\n",
       "\n",
       "    .dataframe tbody tr th {\n",
       "        vertical-align: top;\n",
       "    }\n",
       "\n",
       "    .dataframe thead th {\n",
       "        text-align: right;\n",
       "    }\n",
       "</style>\n",
       "<table border=\"1\" class=\"dataframe\">\n",
       "  <thead>\n",
       "    <tr style=\"text-align: right;\">\n",
       "      <th></th>\n",
       "      <th>Before</th>\n",
       "      <th>After</th>\n",
       "    </tr>\n",
       "  </thead>\n",
       "  <tbody>\n",
       "    <tr>\n",
       "      <th>0</th>\n",
       "      <td>80.5</td>\n",
       "      <td>82.2</td>\n",
       "    </tr>\n",
       "    <tr>\n",
       "      <th>1</th>\n",
       "      <td>84.9</td>\n",
       "      <td>85.6</td>\n",
       "    </tr>\n",
       "    <tr>\n",
       "      <th>2</th>\n",
       "      <td>81.5</td>\n",
       "      <td>81.4</td>\n",
       "    </tr>\n",
       "    <tr>\n",
       "      <th>3</th>\n",
       "      <td>82.6</td>\n",
       "      <td>81.9</td>\n",
       "    </tr>\n",
       "    <tr>\n",
       "      <th>4</th>\n",
       "      <td>79.9</td>\n",
       "      <td>76.4</td>\n",
       "    </tr>\n",
       "  </tbody>\n",
       "</table>\n",
       "</div>"
      ],
      "text/plain": [
       "   Before  After\n",
       "0    80.5   82.2\n",
       "1    84.9   85.6\n",
       "2    81.5   81.4\n",
       "3    82.6   81.9\n",
       "4    79.9   76.4"
      ]
     },
     "execution_count": 9,
     "metadata": {},
     "output_type": "execute_result"
    }
   ],
   "source": [
    "w.head()"
   ]
  },
  {
   "cell_type": "markdown",
   "metadata": {},
   "source": [
    "1. Проиллюстрируйте различия до и после терапии с помощью \"ящика с усами\" `plt.boxplot`."
   ]
  },
  {
   "cell_type": "code",
   "execution_count": null,
   "metadata": {},
   "outputs": [],
   "source": [
    "# your code here"
   ]
  },
  {
   "cell_type": "markdown",
   "metadata": {},
   "source": [
    "2. Проверьте является ли распределение нормальным. Для этого воспользуйтесь `sm.qqplot`. Можно ли на основе такой проверки сделать вывод о возможности использования теста Стьюдента?"
   ]
  },
  {
   "cell_type": "code",
   "execution_count": 26,
   "metadata": {
    "colab": {
     "base_uri": "https://localhost:8080/",
     "height": 335
    },
    "id": "SpwbRX4wcCmj",
    "outputId": "3bbfec05-febf-471a-87fa-70b01f17ef15",
    "scrolled": true
   },
   "outputs": [],
   "source": [
    "# your code here"
   ]
  },
  {
   "cell_type": "markdown",
   "metadata": {
    "id": "GxQlQ9xycCml"
   },
   "source": [
    "3. При помощи критерия Уилкоксона (`wilcoxon` из библиотеки `scipy`) для связанных выборок попробуйе проверить справедливость следующей гипотезы против альтернатив: \n",
    "\n",
    "$H_0$ : лечение не имело эффекта\n",
    "\n",
    "$H_1$ : после лечения вес изменился\n",
    "\n",
    "$H_1$ : после лечения вес увеличивается\n",
    "\n",
    "$H_1$ : после лечения вес уменьшился\n",
    "\n",
    "Для того, чтобы учесть коррекритовку на непрерывную аппроксимацию (continuity correction) установим correction=True."
   ]
  },
  {
   "cell_type": "code",
   "execution_count": 28,
   "metadata": {
    "colab": {
     "base_uri": "https://localhost:8080/"
    },
    "id": "X3nqk5iocCml",
    "outputId": "1aa79ffa-33c6-458c-d7ab-bbe2cddb903e"
   },
   "outputs": [],
   "source": [
    "from scipy.stats import wilcoxon"
   ]
  },
  {
   "cell_type": "code",
   "execution_count": 29,
   "metadata": {
    "colab": {
     "base_uri": "https://localhost:8080/"
    },
    "id": "1P4vOoTH5KAX",
    "outputId": "40c4f54d-8dea-4365-a0ca-635e6cb5ed83"
   },
   "outputs": [],
   "source": [
    "# your code here"
   ]
  },
  {
   "cell_type": "markdown",
   "metadata": {
    "id": "r4yU2h_R8Bzp"
   },
   "source": [
    "4. Для двухсторонней альтернативы воcпользуйтесь критерием знаков (`sign_test` из библиотеки `statsmodels`) и сравните полученные результаты"
   ]
  },
  {
   "cell_type": "code",
   "execution_count": 33,
   "metadata": {
    "colab": {
     "base_uri": "https://localhost:8080/"
    },
    "id": "LgyYobrmcCml",
    "outputId": "08473b8b-1b4b-4ff7-f727-6c87d764506d"
   },
   "outputs": [],
   "source": [
    "from statsmodels.stats.descriptivestats import sign_test\n",
    "# your code here"
   ]
  },
  {
   "cell_type": "markdown",
   "metadata": {
    "id": "rBV1QFb3EUPH"
   },
   "source": [
    "Ранее мы реализовали бутстреп через функцию np.random.choice. Попробуем теперь воспользоваться специальной библиотекой, в которой уже реализовано множество полезных функций для бутстрепа:\n",
    "\n",
    "https://github.com/facebookarchive/bootstrapped"
   ]
  },
  {
   "cell_type": "code",
   "execution_count": 18,
   "metadata": {
    "colab": {
     "base_uri": "https://localhost:8080/"
    },
    "id": "1NxtD5KqFGWr",
    "outputId": "237fb15a-05c8-4852-d822-9e04689bfe0c"
   },
   "outputs": [
    {
     "name": "stdout",
     "output_type": "stream",
     "text": [
      "Requirement already satisfied: bootstrapped in /Users/olga/opt/anaconda3/lib/python3.7/site-packages (0.0.2)\n",
      "Requirement already satisfied: matplotlib>=1.5.3 in /Users/olga/opt/anaconda3/lib/python3.7/site-packages (from bootstrapped) (3.1.3)\n",
      "Requirement already satisfied: pandas>=0.18.1 in /Users/olga/opt/anaconda3/lib/python3.7/site-packages (from bootstrapped) (1.0.1)\n",
      "Requirement already satisfied: numpy>=1.11.1 in /Users/olga/opt/anaconda3/lib/python3.7/site-packages (from bootstrapped) (1.18.1)\n",
      "Requirement already satisfied: pyparsing!=2.0.4,!=2.1.2,!=2.1.6,>=2.0.1 in /Users/olga/opt/anaconda3/lib/python3.7/site-packages (from matplotlib>=1.5.3->bootstrapped) (2.4.6)\n",
      "Requirement already satisfied: python-dateutil>=2.1 in /Users/olga/opt/anaconda3/lib/python3.7/site-packages (from matplotlib>=1.5.3->bootstrapped) (2.8.1)\n",
      "Requirement already satisfied: kiwisolver>=1.0.1 in /Users/olga/opt/anaconda3/lib/python3.7/site-packages (from matplotlib>=1.5.3->bootstrapped) (1.1.0)\n",
      "Requirement already satisfied: cycler>=0.10 in /Users/olga/opt/anaconda3/lib/python3.7/site-packages (from matplotlib>=1.5.3->bootstrapped) (0.10.0)\n",
      "Requirement already satisfied: pytz>=2017.2 in /Users/olga/opt/anaconda3/lib/python3.7/site-packages (from pandas>=0.18.1->bootstrapped) (2019.3)\n",
      "Requirement already satisfied: six>=1.5 in /Users/olga/opt/anaconda3/lib/python3.7/site-packages (from python-dateutil>=2.1->matplotlib>=1.5.3->bootstrapped) (1.14.0)\n",
      "Requirement already satisfied: setuptools in /Users/olga/opt/anaconda3/lib/python3.7/site-packages (from kiwisolver>=1.0.1->matplotlib>=1.5.3->bootstrapped) (46.0.0.post20200309)\n"
     ]
    }
   ],
   "source": [
    "!pip install bootstrapped\n",
    "import bootstrapped.bootstrap as bs\n",
    "import bootstrapped.stats_functions as bs_stats"
   ]
  },
  {
   "cell_type": "markdown",
   "metadata": {
    "id": "RkYUMtf5Far0"
   },
   "source": [
    "5. Воспользуемся для начала функцией `bs.botstrap`. Укажем, что мы хотим построить 10000 бутстрепированных выборок (параметр `num_iterations`), что из всех этих выборок нас интересует значение статистики медианы (`stat_func=bs_stats.median`) и что в качестве результата вызова функции мы хотим получить распределение медиан.\n",
    "Визуализируйте результат с помощью `sns.distplot`."
   ]
  },
  {
   "cell_type": "code",
   "execution_count": null,
   "metadata": {},
   "outputs": [],
   "source": [
    "# your code here"
   ]
  },
  {
   "cell_type": "markdown",
   "metadata": {
    "id": "_7JopSNpF8uc"
   },
   "source": [
    "6. Аналогично постройте распределение средних значений."
   ]
  },
  {
   "cell_type": "code",
   "execution_count": 35,
   "metadata": {
    "colab": {
     "base_uri": "https://localhost:8080/",
     "height": 336
    },
    "id": "3YP_bcn-cCmp",
    "outputId": "f10515e6-85b5-4217-ca06-936339f0c1d6"
   },
   "outputs": [],
   "source": [
    "# your code here"
   ]
  },
  {
   "cell_type": "markdown",
   "metadata": {
    "id": "JHWUHOnhGGnS"
   },
   "source": [
    "7. На основе данных, полученных после вызова `bs.bootstrap`, попробуем найти медиану распределения и построить доверительный интервал. Используем возможность данной библиотеки, позволяющей нам получить точечную оценку и доверительный интервал. По-умолчанию данная библиотека строит отрезки, используя значение интересующей нас статистики на исходной выборке, а затем, с помощью квантилей, находит отклонение от этого среднего значения (`bs.bootstrap`). В некоторых случаях это позволяет получить более точную оценку, независимую от каких-то неизвестных нам параметров распределения."
   ]
  },
  {
   "cell_type": "code",
   "execution_count": 36,
   "metadata": {
    "colab": {
     "base_uri": "https://localhost:8080/"
    },
    "id": "PYeFspKKcCmq",
    "outputId": "8dd7e06a-68d3-406d-ab1e-fc6d24846bfa"
   },
   "outputs": [],
   "source": [
    "# your code here"
   ]
  },
  {
   "cell_type": "markdown",
   "metadata": {
    "id": "WbOTF-mqOfor"
   },
   "source": [
    "8. Для того, чтобы получить значения, аналогичные полученным нами выше в части Percentile bootstrap, нужно установить параметр `is_pivotal=False`. В данном случае точечная оценка строится по бутстрепированной выборке, а интервал находится через квантили."
   ]
  },
  {
   "cell_type": "code",
   "execution_count": 37,
   "metadata": {
    "colab": {
     "base_uri": "https://localhost:8080/"
    },
    "id": "pLhF2RdAOypP",
    "outputId": "f7c72511-8afc-4590-8888-25122d31cc59"
   },
   "outputs": [],
   "source": [
    "# your code here"
   ]
  },
  {
   "cell_type": "markdown",
   "metadata": {
    "id": "Kiq53px1PW1x"
   },
   "source": [
    "9. Повторите действия для среднего значения разности."
   ]
  },
  {
   "cell_type": "code",
   "execution_count": 38,
   "metadata": {
    "colab": {
     "base_uri": "https://localhost:8080/"
    },
    "id": "EyLn2kuVcCmq",
    "outputId": "d00f9ee8-9cb7-46b3-9ade-844f847cd597"
   },
   "outputs": [],
   "source": [
    "# your code here"
   ]
  }
 ],
 "metadata": {
  "colab": {
   "name": "Копия блокнота \"Seminar5.Nonparametric_test.ipynb\"",
   "provenance": [],
   "toc_visible": true
  },
  "kernelspec": {
   "display_name": "Python 3",
   "language": "python",
   "name": "python3"
  },
  "language_info": {
   "codemirror_mode": {
    "name": "ipython",
    "version": 3
   },
   "file_extension": ".py",
   "mimetype": "text/x-python",
   "name": "python",
   "nbconvert_exporter": "python",
   "pygments_lexer": "ipython3",
   "version": "3.8.5"
  }
 },
 "nbformat": 4,
 "nbformat_minor": 1
}
